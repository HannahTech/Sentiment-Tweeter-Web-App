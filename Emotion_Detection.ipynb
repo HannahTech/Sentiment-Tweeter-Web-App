{
  "nbformat": 4,
  "nbformat_minor": 0,
  "metadata": {
    "colab": {
      "provenance": []
    },
    "kernelspec": {
      "name": "python3",
      "display_name": "Python 3"
    },
    "language_info": {
      "name": "python"
    },
    "accelerator": "GPU",
    "gpuClass": "standard"
  },
  "cells": [
    {
      "cell_type": "markdown",
      "source": [
        "https://www.kaggle.com/datasets/cosmos98/twitter-and-reddit-sentimental-analysis-dataset?select=Twitter_Data.csv"
      ],
      "metadata": {
        "id": "pAPAG0T5Lquw"
      }
    },
    {
      "cell_type": "markdown",
      "source": [
        "# **1) Load Data**"
      ],
      "metadata": {
        "id": "crSa1NYzV7Bi"
      }
    },
    {
      "cell_type": "code",
      "source": [
        "import numpy as np \n",
        "import pandas as pd\n",
        "import matplotlib.pyplot as plt\n",
        "import seaborn as sns\n",
        "from google.colab import files\n",
        "from os import path"
      ],
      "metadata": {
        "id": "w7DS7EwQLy1F"
      },
      "execution_count": null,
      "outputs": []
    },
    {
      "cell_type": "code",
      "source": [
        "if path.exists('Twitter_Data.csv'):\n",
        "  pass\n",
        "else:\n",
        "  uploaded = files.upload()"
      ],
      "metadata": {
        "id": "W3dTf_qlLjMa"
      },
      "execution_count": null,
      "outputs": []
    },
    {
      "cell_type": "code",
      "source": [
        "def run(file_name):\n",
        "  df = pd.read_csv(file_name, delimiter=',')\n",
        "  dtypes_df = pd.DataFrame(df.dtypes).reset_index().rename(columns={0:'dtype', 'index':'column_name'})\n",
        "  print('Dataset Information:\\n')\n",
        "  df.info()\n",
        "  print('='*30)\n",
        "  print(f'Shape of our dataset: {df.shape}\\n')\n",
        "  print(f'There are {df.shape[1]} columns in the dataset')\n",
        "  print(f'There are {df.shape[0]} rows in the dataset\\n')\n",
        "  cat_df = dtypes_df[dtypes_df['dtype']=='object']\n",
        "  num_df = dtypes_df[dtypes_df['dtype']!='object']\n",
        "  print(f\"There are {len(cat_df)} Categorical columns > {list(cat_df['column_name'])}\")\n",
        "  print(f\"There are {len(dtypes_df)-len(cat_df)} Numerical columns > {list(num_df['column_name'])}\\n\")\n",
        "  print('Types of dataset:')\n",
        "  display(dtypes_df.head(5))\n",
        "\n",
        "  print(f'\\nNumber of Duplicated: {df.duplicated().sum()}\\n')\n",
        "  print(f'Null values:\\n{df.isnull().sum()}\\n')\n",
        "  print('Unique Values of Emotions')\n",
        "  print(df.category.value_counts())\n",
        "  print('\\n')\n",
        "\n",
        "  ax = (df['category']).value_counts().plot(kind='pie', title='Sentiments Pie Chart', figsize=(11, 6))\n",
        "  ax.yaxis.set_visible(False)\n",
        "\n",
        "  return df"
      ],
      "metadata": {
        "id": "I8ZMCXnQUQzm"
      },
      "execution_count": null,
      "outputs": []
    },
    {
      "cell_type": "code",
      "source": [
        "data = run('Twitter_Data.csv')"
      ],
      "metadata": {
        "id": "LnIvLQL_U-7N",
        "colab": {
          "base_uri": "https://localhost:8080/",
          "height": 1000
        },
        "outputId": "050ca73b-5559-433a-d8ff-0d34ef493e84"
      },
      "execution_count": null,
      "outputs": [
        {
          "output_type": "stream",
          "name": "stdout",
          "text": [
            "Dataset Information:\n",
            "\n",
            "<class 'pandas.core.frame.DataFrame'>\n",
            "RangeIndex: 162980 entries, 0 to 162979\n",
            "Data columns (total 2 columns):\n",
            " #   Column      Non-Null Count   Dtype  \n",
            "---  ------      --------------   -----  \n",
            " 0   clean_text  162976 non-null  object \n",
            " 1   category    162973 non-null  float64\n",
            "dtypes: float64(1), object(1)\n",
            "memory usage: 2.5+ MB\n",
            "==============================\n",
            "Shape of our dataset: (162980, 2)\n",
            "\n",
            "There are 2 columns in the dataset\n",
            "There are 162980 rows in the dataset\n",
            "\n",
            "There are 1 Categorical columns > ['clean_text']\n",
            "There are 1 Numerical columns > ['category']\n",
            "\n",
            "Types of dataset:\n"
          ]
        },
        {
          "output_type": "display_data",
          "data": {
            "text/plain": [
              "  column_name    dtype\n",
              "0  clean_text   object\n",
              "1    category  float64"
            ],
            "text/html": [
              "\n",
              "  <div id=\"df-9c342701-091e-4297-982d-87a1ee609db4\">\n",
              "    <div class=\"colab-df-container\">\n",
              "      <div>\n",
              "<style scoped>\n",
              "    .dataframe tbody tr th:only-of-type {\n",
              "        vertical-align: middle;\n",
              "    }\n",
              "\n",
              "    .dataframe tbody tr th {\n",
              "        vertical-align: top;\n",
              "    }\n",
              "\n",
              "    .dataframe thead th {\n",
              "        text-align: right;\n",
              "    }\n",
              "</style>\n",
              "<table border=\"1\" class=\"dataframe\">\n",
              "  <thead>\n",
              "    <tr style=\"text-align: right;\">\n",
              "      <th></th>\n",
              "      <th>column_name</th>\n",
              "      <th>dtype</th>\n",
              "    </tr>\n",
              "  </thead>\n",
              "  <tbody>\n",
              "    <tr>\n",
              "      <th>0</th>\n",
              "      <td>clean_text</td>\n",
              "      <td>object</td>\n",
              "    </tr>\n",
              "    <tr>\n",
              "      <th>1</th>\n",
              "      <td>category</td>\n",
              "      <td>float64</td>\n",
              "    </tr>\n",
              "  </tbody>\n",
              "</table>\n",
              "</div>\n",
              "      <button class=\"colab-df-convert\" onclick=\"convertToInteractive('df-9c342701-091e-4297-982d-87a1ee609db4')\"\n",
              "              title=\"Convert this dataframe to an interactive table.\"\n",
              "              style=\"display:none;\">\n",
              "        \n",
              "  <svg xmlns=\"http://www.w3.org/2000/svg\" height=\"24px\"viewBox=\"0 0 24 24\"\n",
              "       width=\"24px\">\n",
              "    <path d=\"M0 0h24v24H0V0z\" fill=\"none\"/>\n",
              "    <path d=\"M18.56 5.44l.94 2.06.94-2.06 2.06-.94-2.06-.94-.94-2.06-.94 2.06-2.06.94zm-11 1L8.5 8.5l.94-2.06 2.06-.94-2.06-.94L8.5 2.5l-.94 2.06-2.06.94zm10 10l.94 2.06.94-2.06 2.06-.94-2.06-.94-.94-2.06-.94 2.06-2.06.94z\"/><path d=\"M17.41 7.96l-1.37-1.37c-.4-.4-.92-.59-1.43-.59-.52 0-1.04.2-1.43.59L10.3 9.45l-7.72 7.72c-.78.78-.78 2.05 0 2.83L4 21.41c.39.39.9.59 1.41.59.51 0 1.02-.2 1.41-.59l7.78-7.78 2.81-2.81c.8-.78.8-2.07 0-2.86zM5.41 20L4 18.59l7.72-7.72 1.47 1.35L5.41 20z\"/>\n",
              "  </svg>\n",
              "      </button>\n",
              "      \n",
              "  <style>\n",
              "    .colab-df-container {\n",
              "      display:flex;\n",
              "      flex-wrap:wrap;\n",
              "      gap: 12px;\n",
              "    }\n",
              "\n",
              "    .colab-df-convert {\n",
              "      background-color: #E8F0FE;\n",
              "      border: none;\n",
              "      border-radius: 50%;\n",
              "      cursor: pointer;\n",
              "      display: none;\n",
              "      fill: #1967D2;\n",
              "      height: 32px;\n",
              "      padding: 0 0 0 0;\n",
              "      width: 32px;\n",
              "    }\n",
              "\n",
              "    .colab-df-convert:hover {\n",
              "      background-color: #E2EBFA;\n",
              "      box-shadow: 0px 1px 2px rgba(60, 64, 67, 0.3), 0px 1px 3px 1px rgba(60, 64, 67, 0.15);\n",
              "      fill: #174EA6;\n",
              "    }\n",
              "\n",
              "    [theme=dark] .colab-df-convert {\n",
              "      background-color: #3B4455;\n",
              "      fill: #D2E3FC;\n",
              "    }\n",
              "\n",
              "    [theme=dark] .colab-df-convert:hover {\n",
              "      background-color: #434B5C;\n",
              "      box-shadow: 0px 1px 3px 1px rgba(0, 0, 0, 0.15);\n",
              "      filter: drop-shadow(0px 1px 2px rgba(0, 0, 0, 0.3));\n",
              "      fill: #FFFFFF;\n",
              "    }\n",
              "  </style>\n",
              "\n",
              "      <script>\n",
              "        const buttonEl =\n",
              "          document.querySelector('#df-9c342701-091e-4297-982d-87a1ee609db4 button.colab-df-convert');\n",
              "        buttonEl.style.display =\n",
              "          google.colab.kernel.accessAllowed ? 'block' : 'none';\n",
              "\n",
              "        async function convertToInteractive(key) {\n",
              "          const element = document.querySelector('#df-9c342701-091e-4297-982d-87a1ee609db4');\n",
              "          const dataTable =\n",
              "            await google.colab.kernel.invokeFunction('convertToInteractive',\n",
              "                                                     [key], {});\n",
              "          if (!dataTable) return;\n",
              "\n",
              "          const docLinkHtml = 'Like what you see? Visit the ' +\n",
              "            '<a target=\"_blank\" href=https://colab.research.google.com/notebooks/data_table.ipynb>data table notebook</a>'\n",
              "            + ' to learn more about interactive tables.';\n",
              "          element.innerHTML = '';\n",
              "          dataTable['output_type'] = 'display_data';\n",
              "          await google.colab.output.renderOutput(dataTable, element);\n",
              "          const docLink = document.createElement('div');\n",
              "          docLink.innerHTML = docLinkHtml;\n",
              "          element.appendChild(docLink);\n",
              "        }\n",
              "      </script>\n",
              "    </div>\n",
              "  </div>\n",
              "  "
            ]
          },
          "metadata": {}
        },
        {
          "output_type": "stream",
          "name": "stdout",
          "text": [
            "\n",
            "Number of Duplicated: 1\n",
            "\n",
            "Null values:\n",
            "clean_text    4\n",
            "category      7\n",
            "dtype: int64\n",
            "\n",
            "Unique Values of Emotions\n",
            " 1.0    72250\n",
            " 0.0    55213\n",
            "-1.0    35510\n",
            "Name: category, dtype: int64\n",
            "\n",
            "\n"
          ]
        },
        {
          "output_type": "display_data",
          "data": {
            "text/plain": [
              "<Figure size 792x432 with 1 Axes>"
            ],
            "image/png": "[encoded data removed]"
          },
          "metadata": {}
        }
      ]
    },
    {
      "cell_type": "markdown",
      "source": [
        "# **2) Preprocessing**"
      ],
      "metadata": {
        "id": "IKPGtK0r-_lO"
      }
    },
    {
      "cell_type": "markdown",
      "source": [
        "The various text preprocessing steps are:\n",
        "\n",
        "* Removing punctuations like . , ! $( ) * % @\n",
        "* Numeric items to string\n",
        "* Removing Stop words > Stop words are very commonly used words (a, an, the, etc.)\n",
        "* Lower casing > Converting a word to lower case\n",
        "* Tokenization > Splitting the sentence into words\n",
        "* Stemming > a process of transforming a word to its root form\n",
        "* Lemmatization > Lemmatization is preferred over Stemming (morphological analysis of the words)"
      ],
      "metadata": {
        "id": "2iOAeLz9RnlX"
      }
    },
    {
      "cell_type": "code",
      "source": [
        "import nltk\n",
        "nltk.download('punkt')\n",
        "nltk.download('wordnet')\n",
        "nltk.download('omw-1.4')\n",
        "nltk.download('stopwords')"
      ],
      "metadata": {
        "id": "pmycsAJHFQ-I",
        "colab": {
          "base_uri": "https://localhost:8080/"
        },
        "outputId": "60714af4-c36f-4078-e2c3-62fdcea18400"
      },
      "execution_count": null,
      "outputs": [
        {
          "output_type": "stream",
          "name": "stderr",
          "text": [
            "[nltk_data] Downloading package punkt to /root/nltk_data...\n",
            "[nltk_data]   Package punkt is already up-to-date!\n",
            "[nltk_data] Downloading package wordnet to /root/nltk_data...\n",
            "[nltk_data]   Package wordnet is already up-to-date!\n",
            "[nltk_data] Downloading package omw-1.4 to /root/nltk_data...\n",
            "[nltk_data]   Package omw-1.4 is already up-to-date!\n",
            "[nltk_data] Downloading package stopwords to /root/nltk_data...\n",
            "[nltk_data]   Package stopwords is already up-to-date!\n"
          ]
        },
        {
          "output_type": "execute_result",
          "data": {
            "text/plain": [
              "True"
            ]
          },
          "metadata": {},
          "execution_count": 5
        }
      ]
    },
    {
      "cell_type": "code",
      "source": [
        "!pip install contractions"
      ],
      "metadata": {
        "id": "MEdMwyeMFVvo",
        "colab": {
          "base_uri": "https://localhost:8080/"
        },
        "outputId": "29bed8f0-0e94-4fb3-b873-fcd702b2b5cb"
      },
      "execution_count": null,
      "outputs": [
        {
          "output_type": "stream",
          "name": "stdout",
          "text": [
            "Looking in indexes: https://pypi.org/simple, https://us-python.pkg.dev/colab-wheels/public/simple/\n",
            "Requirement already satisfied: contractions in /usr/local/lib/python3.8/dist-packages (0.1.73)\n",
            "Requirement already satisfied: textsearch>=0.0.21 in /usr/local/lib/python3.8/dist-packages (from contractions) (0.0.24)\n",
            "Requirement already satisfied: anyascii in /usr/local/lib/python3.8/dist-packages (from textsearch>=0.0.21->contractions) (0.3.1)\n",
            "Requirement already satisfied: pyahocorasick in /usr/local/lib/python3.8/dist-packages (from textsearch>=0.0.21->contractions) (1.4.4)\n"
          ]
        }
      ]
    },
    {
      "cell_type": "code",
      "source": [
        "import string\n",
        "import inflect\n",
        "import re\n",
        "\n",
        "from nltk.stem.porter import PorterStemmer\n",
        "from nltk.stem import WordNetLemmatizer\n",
        "from nltk import word_tokenize, sent_tokenize\n",
        "from nltk.corpus import stopwords\n",
        "from bs4 import BeautifulSoup\n",
        "import contractions\n",
        "\n",
        "\n",
        "porter_stemmer = PorterStemmer()\n",
        "wordnet_lemmatizer = WordNetLemmatizer()"
      ],
      "metadata": {
        "id": "ULsgniYPWeuG"
      },
      "execution_count": null,
      "outputs": []
    },
    {
      "cell_type": "markdown",
      "source": [
        "We can see that there are 13 different classes and some of the are having very few examples. (i.e. Anger, Boredom, Empty etc...). This is a very imbalanced dataset and it will not allow the model to converge. We'll reduce the number of classes."
      ],
      "metadata": {
        "id": "BQ9oHyphicng"
      }
    },
    {
      "cell_type": "code",
      "source": [
        "# Load Tweet dataset\n",
        "df = pd.read_csv('/content/Twitter_Data.csv')\n",
        "df = df[:60000]\n",
        "df.head()"
      ],
      "metadata": {
        "id": "lVyEO0mJ0w4q",
        "colab": {
          "base_uri": "https://localhost:8080/",
          "height": 206
        },
        "outputId": "a1eb59db-d5b2-4f12-89f8-3a71785e7fa4"
      },
      "execution_count": null,
      "outputs": [
        {
          "output_type": "execute_result",
          "data": {
            "text/plain": [
              "                                          clean_text  category\n",
              "0  when modi promised “minimum government maximum...      -1.0\n",
              "1  talk all the nonsense and continue all the dra...       0.0\n",
              "2  what did just say vote for modi  welcome bjp t...       1.0\n",
              "3  asking his supporters prefix chowkidar their n...       1.0\n",
              "4  answer who among these the most powerful world...       1.0"
            ],
            "text/html": [
              "\n",
              "  <div id=\"df-b9835398-1d45-4385-a1b4-d9fac15d298d\">\n",
              "    <div class=\"colab-df-container\">\n",
              "      <div>\n",
              "<style scoped>\n",
              "    .dataframe tbody tr th:only-of-type {\n",
              "        vertical-align: middle;\n",
              "    }\n",
              "\n",
              "    .dataframe tbody tr th {\n",
              "        vertical-align: top;\n",
              "    }\n",
              "\n",
              "    .dataframe thead th {\n",
              "        text-align: right;\n",
              "    }\n",
              "</style>\n",
              "<table border=\"1\" class=\"dataframe\">\n",
              "  <thead>\n",
              "    <tr style=\"text-align: right;\">\n",
              "      <th></th>\n",
              "      <th>clean_text</th>\n",
              "      <th>category</th>\n",
              "    </tr>\n",
              "  </thead>\n",
              "  <tbody>\n",
              "    <tr>\n",
              "      <th>0</th>\n",
              "      <td>when modi promised “minimum government maximum...</td>\n",
              "      <td>-1.0</td>\n",
              "    </tr>\n",
              "    <tr>\n",
              "      <th>1</th>\n",
              "      <td>talk all the nonsense and continue all the dra...</td>\n",
              "      <td>0.0</td>\n",
              "    </tr>\n",
              "    <tr>\n",
              "      <th>2</th>\n",
              "      <td>what did just say vote for modi  welcome bjp t...</td>\n",
              "      <td>1.0</td>\n",
              "    </tr>\n",
              "    <tr>\n",
              "      <th>3</th>\n",
              "      <td>asking his supporters prefix chowkidar their n...</td>\n",
              "      <td>1.0</td>\n",
              "    </tr>\n",
              "    <tr>\n",
              "      <th>4</th>\n",
              "      <td>answer who among these the most powerful world...</td>\n",
              "      <td>1.0</td>\n",
              "    </tr>\n",
              "  </tbody>\n",
              "</table>\n",
              "</div>\n",
              "      <button class=\"colab-df-convert\" onclick=\"convertToInteractive('df-b9835398-1d45-4385-a1b4-d9fac15d298d')\"\n",
              "              title=\"Convert this dataframe to an interactive table.\"\n",
              "              style=\"display:none;\">\n",
              "        \n",
              "  <svg xmlns=\"http://www.w3.org/2000/svg\" height=\"24px\"viewBox=\"0 0 24 24\"\n",
              "       width=\"24px\">\n",
              "    <path d=\"M0 0h24v24H0V0z\" fill=\"none\"/>\n",
              "    <path d=\"M18.56 5.44l.94 2.06.94-2.06 2.06-.94-2.06-.94-.94-2.06-.94 2.06-2.06.94zm-11 1L8.5 8.5l.94-2.06 2.06-.94-2.06-.94L8.5 2.5l-.94 2.06-2.06.94zm10 10l.94 2.06.94-2.06 2.06-.94-2.06-.94-.94-2.06-.94 2.06-2.06.94z\"/><path d=\"M17.41 7.96l-1.37-1.37c-.4-.4-.92-.59-1.43-.59-.52 0-1.04.2-1.43.59L10.3 9.45l-7.72 7.72c-.78.78-.78 2.05 0 2.83L4 21.41c.39.39.9.59 1.41.59.51 0 1.02-.2 1.41-.59l7.78-7.78 2.81-2.81c.8-.78.8-2.07 0-2.86zM5.41 20L4 18.59l7.72-7.72 1.47 1.35L5.41 20z\"/>\n",
              "  </svg>\n",
              "      </button>\n",
              "      \n",
              "  <style>\n",
              "    .colab-df-container {\n",
              "      display:flex;\n",
              "      flex-wrap:wrap;\n",
              "      gap: 12px;\n",
              "    }\n",
              "\n",
              "    .colab-df-convert {\n",
              "      background-color: #E8F0FE;\n",
              "      border: none;\n",
              "      border-radius: 50%;\n",
              "      cursor: pointer;\n",
              "      display: none;\n",
              "      fill: #1967D2;\n",
              "      height: 32px;\n",
              "      padding: 0 0 0 0;\n",
              "      width: 32px;\n",
              "    }\n",
              "\n",
              "    .colab-df-convert:hover {\n",
              "      background-color: #E2EBFA;\n",
              "      box-shadow: 0px 1px 2px rgba(60, 64, 67, 0.3), 0px 1px 3px 1px rgba(60, 64, 67, 0.15);\n",
              "      fill: #174EA6;\n",
              "    }\n",
              "\n",
              "    [theme=dark] .colab-df-convert {\n",
              "      background-color: #3B4455;\n",
              "      fill: #D2E3FC;\n",
              "    }\n",
              "\n",
              "    [theme=dark] .colab-df-convert:hover {\n",
              "      background-color: #434B5C;\n",
              "      box-shadow: 0px 1px 3px 1px rgba(0, 0, 0, 0.15);\n",
              "      filter: drop-shadow(0px 1px 2px rgba(0, 0, 0, 0.3));\n",
              "      fill: #FFFFFF;\n",
              "    }\n",
              "  </style>\n",
              "\n",
              "      <script>\n",
              "        const buttonEl =\n",
              "          document.querySelector('#df-b9835398-1d45-4385-a1b4-d9fac15d298d button.colab-df-convert');\n",
              "        buttonEl.style.display =\n",
              "          google.colab.kernel.accessAllowed ? 'block' : 'none';\n",
              "\n",
              "        async function convertToInteractive(key) {\n",
              "          const element = document.querySelector('#df-b9835398-1d45-4385-a1b4-d9fac15d298d');\n",
              "          const dataTable =\n",
              "            await google.colab.kernel.invokeFunction('convertToInteractive',\n",
              "                                                     [key], {});\n",
              "          if (!dataTable) return;\n",
              "\n",
              "          const docLinkHtml = 'Like what you see? Visit the ' +\n",
              "            '<a target=\"_blank\" href=https://colab.research.google.com/notebooks/data_table.ipynb>data table notebook</a>'\n",
              "            + ' to learn more about interactive tables.';\n",
              "          element.innerHTML = '';\n",
              "          dataTable['output_type'] = 'display_data';\n",
              "          await google.colab.output.renderOutput(dataTable, element);\n",
              "          const docLink = document.createElement('div');\n",
              "          docLink.innerHTML = docLinkHtml;\n",
              "          element.appendChild(docLink);\n",
              "        }\n",
              "      </script>\n",
              "    </div>\n",
              "  </div>\n",
              "  "
            ]
          },
          "metadata": {},
          "execution_count": 8
        }
      ]
    },
    {
      "cell_type": "code",
      "source": [
        "# Map tweet categories\n",
        "df['category'] = df['category'].map({-1.0:'Negative', 0.0:'Neutral', 1.0:'Positive'})\n",
        "\n",
        "# Output first five rows\n",
        "df.head()"
      ],
      "metadata": {
        "colab": {
          "base_uri": "https://localhost:8080/",
          "height": 206
        },
        "id": "CMi92SMytch_",
        "outputId": "cd634710-f5c9-44dc-cc1f-30255f005647"
      },
      "execution_count": null,
      "outputs": [
        {
          "output_type": "execute_result",
          "data": {
            "text/plain": [
              "                                          clean_text  category\n",
              "0  when modi promised “minimum government maximum...  Negative\n",
              "1  talk all the nonsense and continue all the dra...   Neutral\n",
              "2  what did just say vote for modi  welcome bjp t...  Positive\n",
              "3  asking his supporters prefix chowkidar their n...  Positive\n",
              "4  answer who among these the most powerful world...  Positive"
            ],
            "text/html": [
              "\n",
              "  <div id=\"df-92debe0e-0b52-49ea-b485-edd28e3593b8\">\n",
              "    <div class=\"colab-df-container\">\n",
              "      <div>\n",
              "<style scoped>\n",
              "    .dataframe tbody tr th:only-of-type {\n",
              "        vertical-align: middle;\n",
              "    }\n",
              "\n",
              "    .dataframe tbody tr th {\n",
              "        vertical-align: top;\n",
              "    }\n",
              "\n",
              "    .dataframe thead th {\n",
              "        text-align: right;\n",
              "    }\n",
              "</style>\n",
              "<table border=\"1\" class=\"dataframe\">\n",
              "  <thead>\n",
              "    <tr style=\"text-align: right;\">\n",
              "      <th></th>\n",
              "      <th>clean_text</th>\n",
              "      <th>category</th>\n",
              "    </tr>\n",
              "  </thead>\n",
              "  <tbody>\n",
              "    <tr>\n",
              "      <th>0</th>\n",
              "      <td>when modi promised “minimum government maximum...</td>\n",
              "      <td>Negative</td>\n",
              "    </tr>\n",
              "    <tr>\n",
              "      <th>1</th>\n",
              "      <td>talk all the nonsense and continue all the dra...</td>\n",
              "      <td>Neutral</td>\n",
              "    </tr>\n",
              "    <tr>\n",
              "      <th>2</th>\n",
              "      <td>what did just say vote for modi  welcome bjp t...</td>\n",
              "      <td>Positive</td>\n",
              "    </tr>\n",
              "    <tr>\n",
              "      <th>3</th>\n",
              "      <td>asking his supporters prefix chowkidar their n...</td>\n",
              "      <td>Positive</td>\n",
              "    </tr>\n",
              "    <tr>\n",
              "      <th>4</th>\n",
              "      <td>answer who among these the most powerful world...</td>\n",
              "      <td>Positive</td>\n",
              "    </tr>\n",
              "  </tbody>\n",
              "</table>\n",
              "</div>\n",
              "      <button class=\"colab-df-convert\" onclick=\"convertToInteractive('df-92debe0e-0b52-49ea-b485-edd28e3593b8')\"\n",
              "              title=\"Convert this dataframe to an interactive table.\"\n",
              "              style=\"display:none;\">\n",
              "        \n",
              "  <svg xmlns=\"http://www.w3.org/2000/svg\" height=\"24px\"viewBox=\"0 0 24 24\"\n",
              "       width=\"24px\">\n",
              "    <path d=\"M0 0h24v24H0V0z\" fill=\"none\"/>\n",
              "    <path d=\"M18.56 5.44l.94 2.06.94-2.06 2.06-.94-2.06-.94-.94-2.06-.94 2.06-2.06.94zm-11 1L8.5 8.5l.94-2.06 2.06-.94-2.06-.94L8.5 2.5l-.94 2.06-2.06.94zm10 10l.94 2.06.94-2.06 2.06-.94-2.06-.94-.94-2.06-.94 2.06-2.06.94z\"/><path d=\"M17.41 7.96l-1.37-1.37c-.4-.4-.92-.59-1.43-.59-.52 0-1.04.2-1.43.59L10.3 9.45l-7.72 7.72c-.78.78-.78 2.05 0 2.83L4 21.41c.39.39.9.59 1.41.59.51 0 1.02-.2 1.41-.59l7.78-7.78 2.81-2.81c.8-.78.8-2.07 0-2.86zM5.41 20L4 18.59l7.72-7.72 1.47 1.35L5.41 20z\"/>\n",
              "  </svg>\n",
              "      </button>\n",
              "      \n",
              "  <style>\n",
              "    .colab-df-container {\n",
              "      display:flex;\n",
              "      flex-wrap:wrap;\n",
              "      gap: 12px;\n",
              "    }\n",
              "\n",
              "    .colab-df-convert {\n",
              "      background-color: #E8F0FE;\n",
              "      border: none;\n",
              "      border-radius: 50%;\n",
              "      cursor: pointer;\n",
              "      display: none;\n",
              "      fill: #1967D2;\n",
              "      height: 32px;\n",
              "      padding: 0 0 0 0;\n",
              "      width: 32px;\n",
              "    }\n",
              "\n",
              "    .colab-df-convert:hover {\n",
              "      background-color: #E2EBFA;\n",
              "      box-shadow: 0px 1px 2px rgba(60, 64, 67, 0.3), 0px 1px 3px 1px rgba(60, 64, 67, 0.15);\n",
              "      fill: #174EA6;\n",
              "    }\n",
              "\n",
              "    [theme=dark] .colab-df-convert {\n",
              "      background-color: #3B4455;\n",
              "      fill: #D2E3FC;\n",
              "    }\n",
              "\n",
              "    [theme=dark] .colab-df-convert:hover {\n",
              "      background-color: #434B5C;\n",
              "      box-shadow: 0px 1px 3px 1px rgba(0, 0, 0, 0.15);\n",
              "      filter: drop-shadow(0px 1px 2px rgba(0, 0, 0, 0.3));\n",
              "      fill: #FFFFFF;\n",
              "    }\n",
              "  </style>\n",
              "\n",
              "      <script>\n",
              "        const buttonEl =\n",
              "          document.querySelector('#df-92debe0e-0b52-49ea-b485-edd28e3593b8 button.colab-df-convert');\n",
              "        buttonEl.style.display =\n",
              "          google.colab.kernel.accessAllowed ? 'block' : 'none';\n",
              "\n",
              "        async function convertToInteractive(key) {\n",
              "          const element = document.querySelector('#df-92debe0e-0b52-49ea-b485-edd28e3593b8');\n",
              "          const dataTable =\n",
              "            await google.colab.kernel.invokeFunction('convertToInteractive',\n",
              "                                                     [key], {});\n",
              "          if (!dataTable) return;\n",
              "\n",
              "          const docLinkHtml = 'Like what you see? Visit the ' +\n",
              "            '<a target=\"_blank\" href=https://colab.research.google.com/notebooks/data_table.ipynb>data table notebook</a>'\n",
              "            + ' to learn more about interactive tables.';\n",
              "          element.innerHTML = '';\n",
              "          dataTable['output_type'] = 'display_data';\n",
              "          await google.colab.output.renderOutput(dataTable, element);\n",
              "          const docLink = document.createElement('div');\n",
              "          docLink.innerHTML = docLinkHtml;\n",
              "          element.appendChild(docLink);\n",
              "        }\n",
              "      </script>\n",
              "    </div>\n",
              "  </div>\n",
              "  "
            ]
          },
          "metadata": {},
          "execution_count": 9
        }
      ]
    },
    {
      "cell_type": "markdown",
      "source": [
        "### Cleaning the tweets"
      ],
      "metadata": {
        "id": "T-5C2nY2XOmn"
      }
    },
    {
      "cell_type": "code",
      "source": [
        "def tweet_to_words(tweet):\n",
        "    ''' Convert tweet text into a sequence of words '''\n",
        "    \n",
        "    # convert to lowercase\n",
        "    text = tweet.lower()\n",
        "    # remove non letters\n",
        "    text = re.sub(r\"[^a-zA-Z0-9]\", \" \", text)\n",
        "    # tokenize\n",
        "    words = text.split()\n",
        "    # remove stopwords\n",
        "    words = [w for w in words if w not in stopwords.words(\"english\")]\n",
        "    # apply stemming\n",
        "    #words = [PorterStemmer().stem(w) for w in words]\n",
        "    words = [wordnet_lemmatizer.lemmatize(w) for w in words]\n",
        "    # return list\n",
        "    return words\n",
        "\n",
        "#print(\"\\nOriginal tweet ->\", df['clean_text'][0])\n",
        "#print(\"\\nProcessed tweet ->\", tweet_to_words(df['clean_text'][0]))"
      ],
      "metadata": {
        "id": "ZKJ-BWcgKdFs"
      },
      "execution_count": null,
      "outputs": []
    },
    {
      "cell_type": "code",
      "source": [
        "df = df.dropna()"
      ],
      "metadata": {
        "id": "69MDbz0XLRZO"
      },
      "execution_count": null,
      "outputs": []
    },
    {
      "cell_type": "code",
      "source": [
        "df.shape"
      ],
      "metadata": {
        "colab": {
          "base_uri": "https://localhost:8080/"
        },
        "id": "snlUV0YPW15a",
        "outputId": "dc1e4511-b200-4a03-8a8d-d7863681119e"
      },
      "execution_count": null,
      "outputs": [
        {
          "output_type": "execute_result",
          "data": {
            "text/plain": [
              "(59999, 2)"
            ]
          },
          "metadata": {},
          "execution_count": 12
        }
      ]
    },
    {
      "cell_type": "markdown",
      "source": [
        "### Features and Target Column"
      ],
      "metadata": {
        "id": "iykalY14W531"
      }
    },
    {
      "cell_type": "code",
      "source": [
        "# Apply data processing to each tweet\n",
        "X = list(map(tweet_to_words, df['clean_text']))"
      ],
      "metadata": {
        "id": "nLGvayt2Kfe9"
      },
      "execution_count": null,
      "outputs": []
    },
    {
      "cell_type": "code",
      "source": [
        "from sklearn.preprocessing import LabelEncoder\n",
        "\n",
        "# Encode target labels\n",
        "le = LabelEncoder()\n",
        "Y = le.fit_transform(df['category'])"
      ],
      "metadata": {
        "id": "i92SSqDMKhE7"
      },
      "execution_count": null,
      "outputs": []
    },
    {
      "cell_type": "code",
      "source": [
        "print(X[0])\n",
        "print(Y[0])"
      ],
      "metadata": {
        "colab": {
          "base_uri": "https://localhost:8080/"
        },
        "id": "2TTScnRjKjhM",
        "outputId": "cc9eb988-b228-4c0e-cdf8-cdf0760d87b3"
      },
      "execution_count": null,
      "outputs": [
        {
          "output_type": "stream",
          "name": "stdout",
          "text": [
            "['modi', 'promised', 'minimum', 'government', 'maximum', 'governance', 'expected', 'begin', 'difficult', 'job', 'reforming', 'state', 'take', 'year', 'get', 'justice', 'state', 'business', 'exit', 'psus', 'temple']\n",
            "0\n"
          ]
        }
      ]
    },
    {
      "cell_type": "code",
      "source": [
        "from sklearn.model_selection import train_test_split\n",
        "y = pd.get_dummies(df['category'])\n",
        "X_train, X_test, y_train, y_test = train_test_split(X, y, test_size=0.2, random_state=1)\n",
        "X_train, X_val, y_train, y_val = train_test_split(X_train, y_train, test_size=0.25, random_state=1)"
      ],
      "metadata": {
        "id": "3xtY_LdQKk5y"
      },
      "execution_count": null,
      "outputs": []
    },
    {
      "cell_type": "code",
      "source": [
        "from sklearn.feature_extraction.text import CountVectorizer\n",
        "#from sklearn.feature_extraction.text import TfidfVectorizer\n",
        "\n",
        "vocabulary_size = 5000\n",
        "\n",
        "# Tweets have already been preprocessed hence dummy function will be passed in \n",
        "# to preprocessor & tokenizer step\n",
        "count_vector = CountVectorizer(max_features=vocabulary_size,\n",
        "#                               ngram_range=(1,2),    # unigram and bigram\n",
        "                                preprocessor=lambda x: x,\n",
        "                               tokenizer=lambda x: x) \n",
        "#tfidf_vector = TfidfVectorizer(lowercase=True, stop_words='english')\n",
        "\n",
        "# Fit the training data\n",
        "X_train = count_vector.fit_transform(X_train).toarray()\n",
        "\n",
        "# Transform testing data\n",
        "X_test = count_vector.transform(X_test).toarray()"
      ],
      "metadata": {
        "id": "NegisJEGKm9y"
      },
      "execution_count": null,
      "outputs": []
    },
    {
      "cell_type": "code",
      "source": [
        "# print first 200 words/tokens\n",
        "print(count_vector.get_feature_names()[0:200])"
      ],
      "metadata": {
        "colab": {
          "base_uri": "https://localhost:8080/"
        },
        "id": "TOGsARgXKo2w",
        "outputId": "9bae6c5d-cad6-44e1-a03c-86d522d08f99"
      },
      "execution_count": null,
      "outputs": [
        {
          "output_type": "stream",
          "name": "stdout",
          "text": [
            "['100', '1000', '10000', '1068', '108', '10k', '10th', '111', '1145', '1200', '12000', '125', '12k', '130', '15', '150', '1500', '1500000', '1520', '15l', '15lac', '15lacs', '15lakh', '15lakhs', '180', '1947', '1958', '1962', '1969', '1971', '1998', '1st', '200', '2000', '2002', '2004', '2007', '2008', '2009', '2010', '2011', '2012', '201213', '2013', '2014', '2015', '2016', '2017', '2018', '201819', '2019', '2020', '2022', '2024', '2025', '2029', '21st', '23rd', '24x7', '250', '2611', '272', '27th', '2cr', '2nd', '300', '3000', '30000', '300km', '350', '350000', '365', '370', '3rd', '400', '4000', '4th', '500', '5000', '5cr', '5th', '5years', '5yrs', '6000', '6000month', '6000year', '60yrs', '6th', '72000', '72000year', '72k', '8020', '90', 'aadhaar', 'aadhar', 'aaj', 'aam', 'aap', 'aaya', 'aayega', 'aayog', 'abandoned', 'abdul', 'abdullah', 'abe', 'abhi', 'abhinandan', 'abhisar', 'ability', 'abki', 'able', 'abp', 'abroad', 'absolute', 'absolutely', 'absurd', 'abt', 'abuse', 'abused', 'abusing', 'abusive', 'abv', 'ac', 'acc', 'accept', 'acceptable', 'acceptance', 'accepted', 'accepting', 'access', 'accha', 'acche', 'accident', 'accidental', 'accomplished', 'accomplishment', 'according', 'account', 'accountability', 'accountable', 'accuse', 'accused', 'accuses', 'accusing', 'acha', 'ache', 'achhe', 'achieve', 'achieved', 'achievement', 'achieves', 'achieving', 'acknowledge', 'acknowledged', 'acknowledging', 'acquire', 'acquired', 'across', 'act', 'acted', 'acting', 'action', 'active', 'activist', 'activity', 'actor', 'actress', 'actual', 'actually', 'ad', 'adani', 'adanis', 'add', 'added', 'adding', 'addition', 'additional', 'address', 'addressed', 'addressing', 'adityanath', 'administration', 'administrator', 'admire', 'admission', 'admit', 'adr', 'advance', 'advancement', 'advani', 'advantage', 'advertise', 'advertisement', 'advertising', 'advice', 'advise', 'advised', 'adviser', 'advisor', 'advocate']\n"
          ]
        },
        {
          "output_type": "stream",
          "name": "stderr",
          "text": [
            "/usr/local/lib/python3.8/dist-packages/sklearn/utils/deprecation.py:87: FutureWarning: Function get_feature_names is deprecated; get_feature_names is deprecated in 1.0 and will be removed in 1.2. Please use get_feature_names_out instead.\n",
            "  warnings.warn(msg, category=FutureWarning)\n"
          ]
        }
      ]
    },
    {
      "cell_type": "code",
      "source": [
        "from keras.preprocessing.text import Tokenizer\n",
        "from keras_preprocessing.sequence import pad_sequences\n",
        "max_words = 5000\n",
        "max_len=25\n",
        "\n",
        "def tokenize_pad_sequences(text):\n",
        "    '''\n",
        "    This function tokenize the input text into sequnences of intergers and then\n",
        "    pad each sequence to the same length\n",
        "    '''\n",
        "    # Text tokenization\n",
        "    tokenizer = Tokenizer(num_words=max_words, lower=True, split=' ')\n",
        "    tokenizer.fit_on_texts(text)\n",
        "    # Transforms text to a sequence of integers\n",
        "    X = tokenizer.texts_to_sequences(text)\n",
        "    # Pad sequences to the same length\n",
        "    X = pad_sequences(X, padding='post', maxlen=max_len)\n",
        "    # return sequences\n",
        "    return X, tokenizer\n",
        "\n",
        "#print('Before Tokenization & Padding \\n', df['clean_text'][0])\n",
        "X, tokenizer = tokenize_pad_sequences(df['clean_text'])\n",
        "#print('After Tokenization & Padding \\n', X[0])"
      ],
      "metadata": {
        "id": "ZZ_GOTdiKtSQ"
      },
      "execution_count": null,
      "outputs": []
    },
    {
      "cell_type": "code",
      "source": [
        "import pickle\n",
        "\n",
        "# saving\n",
        "with open('tokenizer.pickle', 'wb') as handle:\n",
        "    pickle.dump(tokenizer, handle, protocol=pickle.HIGHEST_PROTOCOL)\n",
        "\n",
        "# loading\n",
        "with open('tokenizer.pickle', 'rb') as handle:\n",
        "    tokenizer = pickle.load(handle)"
      ],
      "metadata": {
        "id": "NAl5q3h1LauP"
      },
      "execution_count": null,
      "outputs": []
    },
    {
      "cell_type": "code",
      "source": [
        "y = pd.get_dummies(df['category'])\n",
        "X_train, X_test, y_train, y_test = train_test_split(X, y, test_size=0.2, random_state=1)\n",
        "X_train, X_val, y_train, y_val = train_test_split(X_train, y_train, test_size=0.25, random_state=1)\n",
        "print('Train Set ->', X_train.shape, y_train.shape)\n",
        "print('Validation Set ->', X_val.shape, y_val.shape)\n",
        "print('Test Set ->', X_test.shape, y_test.shape)"
      ],
      "metadata": {
        "colab": {
          "base_uri": "https://localhost:8080/"
        },
        "id": "-T_4DNx7LjLa",
        "outputId": "073cd55f-2581-4f62-a03c-6a96f2581b01"
      },
      "execution_count": null,
      "outputs": [
        {
          "output_type": "stream",
          "name": "stdout",
          "text": [
            "Train Set -> (35999, 25) (35999, 3)\n",
            "Validation Set -> (12000, 25) (12000, 3)\n",
            "Test Set -> (12000, 25) (12000, 3)\n"
          ]
        }
      ]
    },
    {
      "cell_type": "code",
      "source": [
        "import keras.backend as K\n",
        "\n",
        "def f1_score(precision, recall):\n",
        "    ''' Function to calculate f1 score '''\n",
        "    \n",
        "    f1_val = 2*(precision*recall)/(precision+recall+K.epsilon())\n",
        "    return f1_val"
      ],
      "metadata": {
        "id": "3aZxvl2vLlBt"
      },
      "execution_count": null,
      "outputs": []
    },
    {
      "cell_type": "code",
      "source": [
        "from keras.models import Sequential\n",
        "from keras.layers import Embedding, Conv1D, MaxPooling1D, Bidirectional, LSTM, Dense, Dropout\n",
        "from keras.metrics import Precision, Recall\n",
        "from keras.optimizers import SGD\n",
        "from keras.optimizers import RMSprop\n",
        "from keras import datasets\n",
        "\n",
        "from keras.callbacks import LearningRateScheduler\n",
        "from keras.callbacks import History\n",
        "\n",
        "from keras import losses\n",
        "\n",
        "vocab_size = 5000\n",
        "embedding_size = 32\n",
        "epochs=20\n",
        "learning_rate = 0.1\n",
        "decay_rate = learning_rate / epochs\n",
        "momentum = 0.8\n",
        "\n",
        "sgd = SGD(lr=learning_rate, momentum=momentum, decay=decay_rate, nesterov=False)\n",
        "# Build model\n",
        "model= Sequential()\n",
        "model.add(Embedding(vocab_size, embedding_size, input_length=max_len))\n",
        "model.add(Conv1D(filters=32, kernel_size=3, padding='same', activation='relu'))\n",
        "model.add(MaxPooling1D(pool_size=2))\n",
        "model.add(Bidirectional(LSTM(32)))\n",
        "model.add(Dropout(0.4))\n",
        "model.add(Dense(3, activation='softmax'))"
      ],
      "metadata": {
        "colab": {
          "base_uri": "https://localhost:8080/"
        },
        "id": "7yTJV--_Lmxv",
        "outputId": "7ff628d6-c05d-45c8-8d66-7b937bde8051"
      },
      "execution_count": null,
      "outputs": [
        {
          "output_type": "stream",
          "name": "stderr",
          "text": [
            "/usr/local/lib/python3.8/dist-packages/keras/optimizers/optimizer_v2/gradient_descent.py:108: UserWarning: The `lr` argument is deprecated, use `learning_rate` instead.\n",
            "  super(SGD, self).__init__(name, **kwargs)\n"
          ]
        }
      ]
    },
    {
      "cell_type": "code",
      "source": [
        "import tensorflow as tf\n",
        "tf.keras.utils.plot_model(model, show_shapes=True)"
      ],
      "metadata": {
        "colab": {
          "base_uri": "https://localhost:8080/",
          "height": 754
        },
        "id": "Wg0-nkEwLr1S",
        "outputId": "6e3f7144-800b-4511-db83-c90ea61b76ad"
      },
      "execution_count": null,
      "outputs": [
        {
          "output_type": "execute_result",
          "data": {
            "image/png": "[encoded data removed]",
            "text/plain": [
              "<IPython.core.display.Image object>"
            ]
          },
          "metadata": {},
          "execution_count": 24
        }
      ]
    },
    {
      "cell_type": "code",
      "source": [
        "print(model.summary())\n",
        "\n",
        "# Compile model\n",
        "model.compile(loss='categorical_crossentropy', optimizer=sgd, \n",
        "               metrics=['accuracy', Precision(), Recall()])\n",
        "\n",
        "# Train model\n",
        "\n",
        "batch_size = 64\n",
        "history = model.fit(X_train, y_train,\n",
        "                      validation_data=(X_val, y_val),\n",
        "                      batch_size=batch_size, epochs=epochs, verbose=1)"
      ],
      "metadata": {
        "colab": {
          "base_uri": "https://localhost:8080/"
        },
        "id": "XDRi1P_BLuXY",
        "outputId": "45002fa0-0fcb-42f3-ece0-8720a2f8a271"
      },
      "execution_count": null,
      "outputs": [
        {
          "output_type": "stream",
          "name": "stdout",
          "text": [
            "Model: \"sequential\"\n",
            "_________________________________________________________________\n",
            " Layer (type)                Output Shape              Param #   \n",
            "=================================================================\n",
            " embedding (Embedding)       (None, 25, 32)            160000    \n",
            "                                                                 \n",
            " conv1d (Conv1D)             (None, 25, 32)            3104      \n",
            "                                                                 \n",
            " max_pooling1d (MaxPooling1D  (None, 12, 32)           0         \n",
            " )                                                               \n",
            "                                                                 \n",
            " bidirectional (Bidirectiona  (None, 64)               16640     \n",
            " l)                                                              \n",
            "                                                                 \n",
            " dropout (Dropout)           (None, 64)                0         \n",
            "                                                                 \n",
            " dense (Dense)               (None, 3)                 195       \n",
            "                                                                 \n",
            "=================================================================\n",
            "Total params: 179,939\n",
            "Trainable params: 179,939\n",
            "Non-trainable params: 0\n",
            "_________________________________________________________________\n",
            "None\n",
            "Epoch 1/20\n",
            "563/563 [==============================] - 32s 21ms/step - loss: 0.9853 - accuracy: 0.5247 - precision: 0.5696 - recall: 0.3394 - val_loss: 0.9652 - val_accuracy: 0.5393 - val_precision: 0.5734 - val_recall: 0.4221\n",
            "Epoch 2/20\n",
            "563/563 [==============================] - 9s 16ms/step - loss: 0.9668 - accuracy: 0.5395 - precision: 0.5831 - recall: 0.3831 - val_loss: 0.9496 - val_accuracy: 0.5523 - val_precision: 0.6027 - val_recall: 0.4016\n",
            "Epoch 3/20\n",
            "563/563 [==============================] - 6s 11ms/step - loss: 0.8876 - accuracy: 0.5945 - precision: 0.6515 - recall: 0.4707 - val_loss: 0.7522 - val_accuracy: 0.6647 - val_precision: 0.7234 - val_recall: 0.5968\n",
            "Epoch 4/20\n",
            "563/563 [==============================] - 5s 9ms/step - loss: 0.6785 - accuracy: 0.7049 - precision: 0.7622 - recall: 0.6364 - val_loss: 0.6138 - val_accuracy: 0.7341 - val_precision: 0.7865 - val_recall: 0.6703\n",
            "Epoch 5/20\n",
            "563/563 [==============================] - 5s 9ms/step - loss: 0.5685 - accuracy: 0.7607 - precision: 0.8031 - recall: 0.6996 - val_loss: 0.5427 - val_accuracy: 0.7738 - val_precision: 0.8086 - val_recall: 0.7339\n",
            "Epoch 6/20\n",
            "563/563 [==============================] - 6s 10ms/step - loss: 0.5162 - accuracy: 0.7934 - precision: 0.8189 - recall: 0.7539 - val_loss: 0.5213 - val_accuracy: 0.7933 - val_precision: 0.8111 - val_recall: 0.7663\n",
            "Epoch 7/20\n",
            "563/563 [==============================] - 5s 10ms/step - loss: 0.4842 - accuracy: 0.8152 - precision: 0.8326 - recall: 0.7869 - val_loss: 0.5092 - val_accuracy: 0.8123 - val_precision: 0.8321 - val_recall: 0.7853\n",
            "Epoch 8/20\n",
            "563/563 [==============================] - 5s 9ms/step - loss: 0.4640 - accuracy: 0.8319 - precision: 0.8463 - recall: 0.8086 - val_loss: 0.4812 - val_accuracy: 0.8248 - val_precision: 0.8376 - val_recall: 0.8099\n",
            "Epoch 9/20\n",
            "563/563 [==============================] - 5s 9ms/step - loss: 0.4440 - accuracy: 0.8442 - precision: 0.8568 - recall: 0.8253 - val_loss: 0.4563 - val_accuracy: 0.8347 - val_precision: 0.8455 - val_recall: 0.8219\n",
            "Epoch 10/20\n",
            "563/563 [==============================] - 5s 9ms/step - loss: 0.4229 - accuracy: 0.8545 - precision: 0.8654 - recall: 0.8398 - val_loss: 0.4468 - val_accuracy: 0.8363 - val_precision: 0.8465 - val_recall: 0.8264\n",
            "Epoch 11/20\n",
            "563/563 [==============================] - 5s 9ms/step - loss: 0.4026 - accuracy: 0.8632 - precision: 0.8726 - recall: 0.8501 - val_loss: 0.4466 - val_accuracy: 0.8431 - val_precision: 0.8540 - val_recall: 0.8318\n",
            "Epoch 12/20\n",
            "563/563 [==============================] - 6s 10ms/step - loss: 0.3848 - accuracy: 0.8698 - precision: 0.8793 - recall: 0.8575 - val_loss: 0.4123 - val_accuracy: 0.8573 - val_precision: 0.8717 - val_recall: 0.8404\n",
            "Epoch 13/20\n",
            "563/563 [==============================] - 6s 10ms/step - loss: 0.3635 - accuracy: 0.8774 - precision: 0.8871 - recall: 0.8658 - val_loss: 0.4111 - val_accuracy: 0.8550 - val_precision: 0.8678 - val_recall: 0.8432\n",
            "Epoch 14/20\n",
            "563/563 [==============================] - 5s 9ms/step - loss: 0.3469 - accuracy: 0.8836 - precision: 0.8938 - recall: 0.8720 - val_loss: 0.3842 - val_accuracy: 0.8668 - val_precision: 0.8769 - val_recall: 0.8560\n",
            "Epoch 15/20\n",
            "563/563 [==============================] - 7s 12ms/step - loss: 0.3272 - accuracy: 0.8916 - precision: 0.9017 - recall: 0.8816 - val_loss: 0.3830 - val_accuracy: 0.8687 - val_precision: 0.8755 - val_recall: 0.8605\n",
            "Epoch 16/20\n",
            "563/563 [==============================] - 6s 10ms/step - loss: 0.3124 - accuracy: 0.8965 - precision: 0.9046 - recall: 0.8881 - val_loss: 0.3802 - val_accuracy: 0.8698 - val_precision: 0.8781 - val_recall: 0.8624\n",
            "Epoch 17/20\n",
            "563/563 [==============================] - 5s 9ms/step - loss: 0.2985 - accuracy: 0.9032 - precision: 0.9111 - recall: 0.8941 - val_loss: 0.3664 - val_accuracy: 0.8717 - val_precision: 0.8778 - val_recall: 0.8643\n",
            "Epoch 18/20\n",
            "563/563 [==============================] - 6s 11ms/step - loss: 0.2859 - accuracy: 0.9083 - precision: 0.9154 - recall: 0.9004 - val_loss: 0.3593 - val_accuracy: 0.8744 - val_precision: 0.8815 - val_recall: 0.8663\n",
            "Epoch 19/20\n",
            "563/563 [==============================] - 5s 9ms/step - loss: 0.2713 - accuracy: 0.9142 - precision: 0.9211 - recall: 0.9067 - val_loss: 0.3672 - val_accuracy: 0.8722 - val_precision: 0.8812 - val_recall: 0.8633\n",
            "Epoch 20/20\n",
            "563/563 [==============================] - 6s 10ms/step - loss: 0.2658 - accuracy: 0.9154 - precision: 0.9227 - recall: 0.9079 - val_loss: 0.3527 - val_accuracy: 0.8785 - val_precision: 0.8854 - val_recall: 0.8704\n"
          ]
        }
      ]
    },
    {
      "cell_type": "code",
      "source": [
        "# Evaluate model on the test set\n",
        "loss, accuracy, precision, recall = model.evaluate(X_test, y_test, verbose=0)\n",
        "# Print metrics\n",
        "print('')\n",
        "print('Accuracy  : {:.4f}'.format(accuracy))\n",
        "print('Precision : {:.4f}'.format(precision))\n",
        "print('Recall    : {:.4f}'.format(recall))\n",
        "print('F1 Score  : {:.4f}'.format(f1_score(precision, recall)))"
      ],
      "metadata": {
        "colab": {
          "base_uri": "https://localhost:8080/"
        },
        "id": "USU5mY_gNUnD",
        "outputId": "d36ba1be-4d70-43c2-c275-28eda1f0f944"
      },
      "execution_count": null,
      "outputs": [
        {
          "output_type": "stream",
          "name": "stdout",
          "text": [
            "\n",
            "Accuracy  : 0.8691\n",
            "Precision : 0.8769\n",
            "Recall    : 0.8627\n",
            "F1 Score  : 0.8697\n"
          ]
        }
      ]
    },
    {
      "cell_type": "code",
      "source": [
        "def plot_training_hist(history):\n",
        "    '''Function to plot history for accuracy and loss'''\n",
        "    \n",
        "    fig, ax = plt.subplots(1, 2, figsize=(10,4))\n",
        "    # first plot\n",
        "    ax[0].plot(history.history['accuracy'])\n",
        "    ax[0].plot(history.history['val_accuracy'])\n",
        "    ax[0].set_title('Model Accuracy')\n",
        "    ax[0].set_xlabel('epoch')\n",
        "    ax[0].set_ylabel('accuracy')\n",
        "    ax[0].legend(['train', 'validation'], loc='best')\n",
        "    # second plot\n",
        "    ax[1].plot(history.history['loss'])\n",
        "    ax[1].plot(history.history['val_loss'])\n",
        "    ax[1].set_title('Model Loss')\n",
        "    ax[1].set_xlabel('epoch')\n",
        "    ax[1].set_ylabel('loss')\n",
        "    ax[1].legend(['train', 'validation'], loc='best')\n",
        "    \n",
        "plot_training_hist(history)"
      ],
      "metadata": {
        "colab": {
          "base_uri": "https://localhost:8080/",
          "height": 295
        },
        "id": "Nc49L0gcNYhL",
        "outputId": "e22bb180-9252-4807-af78-e9b5ebf0e3b9"
      },
      "execution_count": null,
      "outputs": [
        {
          "output_type": "display_data",
          "data": {
            "text/plain": [
              "<Figure size 720x288 with 2 Axes>"
            ],
            "image/png": "[encoded data removed]"
          },
          "metadata": {
            "needs_background": "light"
          }
        }
      ]
    },
    {
      "cell_type": "code",
      "source": [
        "!pip install -U keras-tuner"
      ],
      "metadata": {
        "colab": {
          "base_uri": "https://localhost:8080/"
        },
        "id": "1WF6R5LONc2N",
        "outputId": "964bba84-3d5b-418a-a685-1efe125ef085"
      },
      "execution_count": null,
      "outputs": [
        {
          "output_type": "stream",
          "name": "stdout",
          "text": [
            "Looking in indexes: https://pypi.org/simple, https://us-python.pkg.dev/colab-wheels/public/simple/\n",
            "Requirement already satisfied: keras-tuner in /usr/local/lib/python3.8/dist-packages (1.1.3)\n",
            "Requirement already satisfied: ipython in /usr/local/lib/python3.8/dist-packages (from keras-tuner) (7.9.0)\n",
            "Requirement already satisfied: numpy in /usr/local/lib/python3.8/dist-packages (from keras-tuner) (1.21.6)\n",
            "Requirement already satisfied: requests in /usr/local/lib/python3.8/dist-packages (from keras-tuner) (2.23.0)\n",
            "Requirement already satisfied: packaging in /usr/local/lib/python3.8/dist-packages (from keras-tuner) (21.3)\n",
            "Requirement already satisfied: kt-legacy in /usr/local/lib/python3.8/dist-packages (from keras-tuner) (1.0.4)\n",
            "Requirement already satisfied: tensorboard in /usr/local/lib/python3.8/dist-packages (from keras-tuner) (2.9.1)\n",
            "Requirement already satisfied: decorator in /usr/local/lib/python3.8/dist-packages (from ipython->keras-tuner) (4.4.2)\n",
            "Requirement already satisfied: traitlets>=4.2 in /usr/local/lib/python3.8/dist-packages (from ipython->keras-tuner) (5.6.0)\n",
            "Requirement already satisfied: backcall in /usr/local/lib/python3.8/dist-packages (from ipython->keras-tuner) (0.2.0)\n",
            "Requirement already satisfied: setuptools>=18.5 in /usr/local/lib/python3.8/dist-packages (from ipython->keras-tuner) (57.4.0)\n",
            "Requirement already satisfied: prompt-toolkit<2.1.0,>=2.0.0 in /usr/local/lib/python3.8/dist-packages (from ipython->keras-tuner) (2.0.10)\n",
            "Requirement already satisfied: jedi>=0.10 in /usr/local/lib/python3.8/dist-packages (from ipython->keras-tuner) (0.18.2)\n",
            "Requirement already satisfied: pickleshare in /usr/local/lib/python3.8/dist-packages (from ipython->keras-tuner) (0.7.5)\n",
            "Requirement already satisfied: pygments in /usr/local/lib/python3.8/dist-packages (from ipython->keras-tuner) (2.6.1)\n",
            "Requirement already satisfied: pexpect in /usr/local/lib/python3.8/dist-packages (from ipython->keras-tuner) (4.8.0)\n",
            "Requirement already satisfied: parso<0.9.0,>=0.8.0 in /usr/local/lib/python3.8/dist-packages (from jedi>=0.10->ipython->keras-tuner) (0.8.3)\n",
            "Requirement already satisfied: wcwidth in /usr/local/lib/python3.8/dist-packages (from prompt-toolkit<2.1.0,>=2.0.0->ipython->keras-tuner) (0.2.5)\n",
            "Requirement already satisfied: six>=1.9.0 in /usr/local/lib/python3.8/dist-packages (from prompt-toolkit<2.1.0,>=2.0.0->ipython->keras-tuner) (1.15.0)\n",
            "Requirement already satisfied: pyparsing!=3.0.5,>=2.0.2 in /usr/local/lib/python3.8/dist-packages (from packaging->keras-tuner) (3.0.9)\n",
            "Requirement already satisfied: ptyprocess>=0.5 in /usr/local/lib/python3.8/dist-packages (from pexpect->ipython->keras-tuner) (0.7.0)\n",
            "Requirement already satisfied: idna<3,>=2.5 in /usr/local/lib/python3.8/dist-packages (from requests->keras-tuner) (2.10)\n",
            "Requirement already satisfied: urllib3!=1.25.0,!=1.25.1,<1.26,>=1.21.1 in /usr/local/lib/python3.8/dist-packages (from requests->keras-tuner) (1.24.3)\n",
            "Requirement already satisfied: certifi>=2017.4.17 in /usr/local/lib/python3.8/dist-packages (from requests->keras-tuner) (2022.9.24)\n",
            "Requirement already satisfied: chardet<4,>=3.0.2 in /usr/local/lib/python3.8/dist-packages (from requests->keras-tuner) (3.0.4)\n",
            "Requirement already satisfied: tensorboard-data-server<0.7.0,>=0.6.0 in /usr/local/lib/python3.8/dist-packages (from tensorboard->keras-tuner) (0.6.1)\n",
            "Requirement already satisfied: markdown>=2.6.8 in /usr/local/lib/python3.8/dist-packages (from tensorboard->keras-tuner) (3.4.1)\n",
            "Requirement already satisfied: google-auth<3,>=1.6.3 in /usr/local/lib/python3.8/dist-packages (from tensorboard->keras-tuner) (2.15.0)\n",
            "Requirement already satisfied: wheel>=0.26 in /usr/local/lib/python3.8/dist-packages (from tensorboard->keras-tuner) (0.38.4)\n",
            "Requirement already satisfied: tensorboard-plugin-wit>=1.6.0 in /usr/local/lib/python3.8/dist-packages (from tensorboard->keras-tuner) (1.8.1)\n",
            "Requirement already satisfied: grpcio>=1.24.3 in /usr/local/lib/python3.8/dist-packages (from tensorboard->keras-tuner) (1.51.1)\n",
            "Requirement already satisfied: protobuf<3.20,>=3.9.2 in /usr/local/lib/python3.8/dist-packages (from tensorboard->keras-tuner) (3.19.6)\n",
            "Requirement already satisfied: absl-py>=0.4 in /usr/local/lib/python3.8/dist-packages (from tensorboard->keras-tuner) (1.3.0)\n",
            "Requirement already satisfied: google-auth-oauthlib<0.5,>=0.4.1 in /usr/local/lib/python3.8/dist-packages (from tensorboard->keras-tuner) (0.4.6)\n",
            "Requirement already satisfied: werkzeug>=1.0.1 in /usr/local/lib/python3.8/dist-packages (from tensorboard->keras-tuner) (1.0.1)\n",
            "Requirement already satisfied: pyasn1-modules>=0.2.1 in /usr/local/lib/python3.8/dist-packages (from google-auth<3,>=1.6.3->tensorboard->keras-tuner) (0.2.8)\n",
            "Requirement already satisfied: rsa<5,>=3.1.4 in /usr/local/lib/python3.8/dist-packages (from google-auth<3,>=1.6.3->tensorboard->keras-tuner) (4.9)\n",
            "Requirement already satisfied: cachetools<6.0,>=2.0.0 in /usr/local/lib/python3.8/dist-packages (from google-auth<3,>=1.6.3->tensorboard->keras-tuner) (5.2.0)\n",
            "Requirement already satisfied: requests-oauthlib>=0.7.0 in /usr/local/lib/python3.8/dist-packages (from google-auth-oauthlib<0.5,>=0.4.1->tensorboard->keras-tuner) (1.3.1)\n",
            "Requirement already satisfied: importlib-metadata>=4.4 in /usr/local/lib/python3.8/dist-packages (from markdown>=2.6.8->tensorboard->keras-tuner) (4.13.0)\n",
            "Requirement already satisfied: zipp>=0.5 in /usr/local/lib/python3.8/dist-packages (from importlib-metadata>=4.4->markdown>=2.6.8->tensorboard->keras-tuner) (3.11.0)\n",
            "Requirement already satisfied: pyasn1<0.5.0,>=0.4.6 in /usr/local/lib/python3.8/dist-packages (from pyasn1-modules>=0.2.1->google-auth<3,>=1.6.3->tensorboard->keras-tuner) (0.4.8)\n",
            "Requirement already satisfied: oauthlib>=3.0.0 in /usr/local/lib/python3.8/dist-packages (from requests-oauthlib>=0.7.0->google-auth-oauthlib<0.5,>=0.4.1->tensorboard->keras-tuner) (3.2.2)\n"
          ]
        }
      ]
    },
    {
      "cell_type": "code",
      "source": [
        "from kerastuner.tuners import RandomSearch"
      ],
      "metadata": {
        "id": "3_bjppG9Noh0",
        "colab": {
          "base_uri": "https://localhost:8080/"
        },
        "outputId": "98186beb-987e-4a33-c991-9c1e80bb9fca"
      },
      "execution_count": null,
      "outputs": [
        {
          "output_type": "stream",
          "name": "stderr",
          "text": [
            "<ipython-input-29-94471a811b41>:1: DeprecationWarning: `import kerastuner` is deprecated, please use `import keras_tuner`.\n",
            "  from kerastuner.tuners import RandomSearch\n"
          ]
        }
      ]
    },
    {
      "cell_type": "code",
      "source": [
        "from kerastuner import HyperModel\n",
        "\n",
        "\n",
        "def build_model_2(hp):\n",
        "    model = Sequential()\n",
        "    model.add(Embedding(vocab_size, embedding_size, input_length=max_len))\n",
        "    model.add(Conv1D(filters=32, kernel_size=3, padding='same', activation='relu'))\n",
        "    model.add(MaxPooling1D(pool_size=2))\n",
        "    model.add(Bidirectional(LSTM(32)))\n",
        "    model.add(Dropout(hp.Float('Dropout',min_value=0.1,max_value=0.4,step=0.1)))\n",
        "    model.add(Dense(3, activation='softmax'))\n",
        "    model.compile(loss='categorical_crossentropy', optimizer=hp.Choice('optimizer',values=['adam', 'sgd' ],default='sgd'),metrics = ['accuracy', Precision(), Recall()])\n",
        "    return model"
      ],
      "metadata": {
        "id": "daWytrttNyzC"
      },
      "execution_count": null,
      "outputs": []
    },
    {
      "cell_type": "code",
      "source": [
        "tuner_model_2= RandomSearch(\n",
        "        build_model_2,\n",
        "        objective='val_accuracy',\n",
        "        max_trials=5,directory='project',project_name='best model')"
      ],
      "metadata": {
        "id": "VuqL2MNFNs5z"
      },
      "execution_count": null,
      "outputs": []
    },
    {
      "cell_type": "code",
      "source": [
        "tuner_model_2.search_space_summary()"
      ],
      "metadata": {
        "colab": {
          "base_uri": "https://localhost:8080/"
        },
        "id": "pwGUgYXbN3UT",
        "outputId": "0ade3575-c452-4cad-fd52-263a5e8b6a42"
      },
      "execution_count": null,
      "outputs": [
        {
          "output_type": "stream",
          "name": "stdout",
          "text": [
            "Search space summary\n",
            "Default search space size: 2\n",
            "Dropout (Float)\n",
            "{'default': 0.1, 'conditions': [], 'min_value': 0.1, 'max_value': 0.4, 'step': 0.1, 'sampling': None}\n",
            "optimizer (Choice)\n",
            "{'default': 'sgd', 'conditions': [], 'values': ['adam', 'sgd'], 'ordered': False}\n"
          ]
        }
      ]
    },
    {
      "cell_type": "code",
      "source": [],
      "metadata": {
        "id": "JrRETB4PzmEt"
      },
      "execution_count": null,
      "outputs": []
    },
    {
      "cell_type": "code",
      "source": [
        "tuner_model_2.search(X_train, y_train, epochs=5, validation_data = (X_val, y_val))"
      ],
      "metadata": {
        "id": "erC_PeerN4aJ"
      },
      "execution_count": null,
      "outputs": []
    },
    {
      "cell_type": "code",
      "source": [
        "tuner_model_2.get_best_hyperparameters()[0].values"
      ],
      "metadata": {
        "colab": {
          "base_uri": "https://localhost:8080/"
        },
        "id": "sBMKrGd3qJ1c",
        "outputId": "8984bb21-ba64-4b94-ab11-ee0d8923a9aa"
      },
      "execution_count": null,
      "outputs": [
        {
          "output_type": "execute_result",
          "data": {
            "text/plain": [
              "{'Dropout': 0.30000000000000004, 'optimizer': 'adam'}"
            ]
          },
          "metadata": {},
          "execution_count": 34
        }
      ]
    },
    {
      "cell_type": "code",
      "source": [],
      "metadata": {
        "id": "64-I8eAr0k5J"
      },
      "execution_count": null,
      "outputs": []
    },
    {
      "cell_type": "code",
      "source": [
        "best_model = tuner_model_2.get_best_models()[0]\n",
        "best_model.evaluate(X_test, y_test)"
      ],
      "metadata": {
        "colab": {
          "base_uri": "https://localhost:8080/"
        },
        "id": "aTy40CkTN6oy",
        "outputId": "30f28cbb-4719-43c1-d5e3-f67e35ad5fa4"
      },
      "execution_count": null,
      "outputs": [
        {
          "output_type": "stream",
          "name": "stdout",
          "text": [
            "375/375 [==============================] - 4s 5ms/step - loss: 2.4067 - accuracy: 0.4232 - precision: 0.4239 - recall: 0.4202\n"
          ]
        },
        {
          "output_type": "execute_result",
          "data": {
            "text/plain": [
              "[2.4067251682281494,\n",
              " 0.4231666624546051,\n",
              " 0.4238883852958679,\n",
              " 0.4202499985694885]"
            ]
          },
          "metadata": {},
          "execution_count": 35
        }
      ]
    },
    {
      "cell_type": "code",
      "source": [
        "history = best_model.fit(X_train, y_train,\n",
        "                      validation_data=(X_val, y_val),\n",
        "                      batch_size=64, epochs=5, verbose=1)"
      ],
      "metadata": {
        "colab": {
          "base_uri": "https://localhost:8080/"
        },
        "id": "KbLWz80AmfFk",
        "outputId": "8106ec69-05c9-47db-f11b-341f49e51340"
      },
      "execution_count": null,
      "outputs": [
        {
          "output_type": "stream",
          "name": "stdout",
          "text": [
            "Epoch 1/5\n",
            "563/563 [==============================] - 14s 18ms/step - loss: 0.9977 - accuracy: 0.5238 - precision: 0.5780 - recall: 0.3347 - val_loss: 0.8897 - val_accuracy: 0.5940 - val_precision: 0.6636 - val_recall: 0.4620\n",
            "Epoch 2/5\n",
            "563/563 [==============================] - 9s 16ms/step - loss: 0.5236 - accuracy: 0.7893 - precision: 0.8328 - recall: 0.7429 - val_loss: 0.3112 - val_accuracy: 0.8968 - val_precision: 0.9039 - val_recall: 0.8893\n",
            "Epoch 3/5\n",
            "563/563 [==============================] - 9s 16ms/step - loss: 0.2533 - accuracy: 0.9200 - precision: 0.9248 - recall: 0.9147 - val_loss: 0.2798 - val_accuracy: 0.9105 - val_precision: 0.9159 - val_recall: 0.9056\n",
            "Epoch 4/5\n",
            "563/563 [==============================] - 7s 12ms/step - loss: 0.2009 - accuracy: 0.9401 - precision: 0.9452 - recall: 0.9354 - val_loss: 0.2797 - val_accuracy: 0.9101 - val_precision: 0.9157 - val_recall: 0.9046\n",
            "Epoch 5/5\n",
            "563/563 [==============================] - 6s 10ms/step - loss: 0.1611 - accuracy: 0.9536 - precision: 0.9574 - recall: 0.9505 - val_loss: 0.3002 - val_accuracy: 0.9097 - val_precision: 0.9135 - val_recall: 0.9052\n"
          ]
        }
      ]
    },
    {
      "cell_type": "code",
      "source": [
        "# Evaluate model on the test set\n",
        "loss, accuracy, precision, recall = best_model.evaluate(X_test, y_test, verbose=0)\n",
        "# Print metrics\n",
        "print('')\n",
        "print('Accuracy  : {:.4f}'.format(accuracy))\n",
        "print('Precision : {:.4f}'.format(precision))\n",
        "print('Recall    : {:.4f}'.format(recall))\n",
        "print('F1 Score  : {:.4f}'.format(f1_score(precision, recall)))"
      ],
      "metadata": {
        "colab": {
          "base_uri": "https://localhost:8080/"
        },
        "id": "7qJzY78I09Th",
        "outputId": "977c4496-9a2c-4971-aa6f-1618bf6e3f90"
      },
      "execution_count": null,
      "outputs": [
        {
          "output_type": "stream",
          "name": "stdout",
          "text": [
            "\n",
            "Accuracy  : 0.8957\n",
            "Precision : 0.9019\n",
            "Recall    : 0.8911\n",
            "F1 Score  : 0.8965\n"
          ]
        }
      ]
    },
    {
      "cell_type": "code",
      "source": [
        "# # Save the model architecture & the weights\n",
        "# model.save('best_model')\n",
        "# print('Best model saved')"
      ],
      "metadata": {
        "id": "4kaA0nY-1lX9"
      },
      "execution_count": null,
      "outputs": []
    },
    {
      "cell_type": "code",
      "source": [
        "# with open('tokenizer.pickle', 'rb') as handle:\n",
        "#     tokenizer = pickle.load(handle)\n",
        "best_model.save('best_model.h5')\n",
        "new_model = tf.keras.models.load_model('best_model.h5')"
      ],
      "metadata": {
        "colab": {
          "base_uri": "https://localhost:8080/"
        },
        "id": "YyijyKxUnRf9",
        "outputId": "17291d8e-498d-4dd4-bc3b-261227e8b379"
      },
      "execution_count": null,
      "outputs": [
        {
          "output_type": "stream",
          "name": "stderr",
          "text": [
            "WARNING:tensorflow:Error in loading the saved optimizer state. As a result, your model is starting with a freshly initialized optimizer.\n"
          ]
        }
      ]
    },
    {
      "cell_type": "code",
      "source": [
        "new_model.evaluate(X_test, y_test)"
      ],
      "metadata": {
        "colab": {
          "base_uri": "https://localhost:8080/"
        },
        "id": "U8OYbYrgniCA",
        "outputId": "136d6344-ffa0-4093-bc60-be734cd37fa5"
      },
      "execution_count": null,
      "outputs": [
        {
          "output_type": "stream",
          "name": "stdout",
          "text": [
            "375/375 [==============================] - 3s 4ms/step - loss: 0.3241 - accuracy: 0.8957 - precision: 0.9019 - recall: 0.8911\n"
          ]
        },
        {
          "output_type": "execute_result",
          "data": {
            "text/plain": [
              "[0.32408201694488525,\n",
              " 0.8956666588783264,\n",
              " 0.9019061923027039,\n",
              " 0.8910833597183228]"
            ]
          },
          "metadata": {},
          "execution_count": 40
        }
      ]
    },
    {
      "cell_type": "code",
      "source": [
        "\n",
        "def predict(text):\n",
        "    series = pd.Series(text)\n",
        "    #tokenizer.fit_on_texts(series)\n",
        "    X = pad_sequences(tokenizer.texts_to_sequences(series),\n",
        "                      padding='post', maxlen=25)\n",
        "    return int(np.argmax(new_model.predict(X))) - 1"
      ],
      "metadata": {
        "id": "hIYZDnzx2bM0"
      },
      "execution_count": null,
      "outputs": []
    },
    {
      "cell_type": "code",
      "source": [
        "predict('never underestimate the power stupid people')"
      ],
      "metadata": {
        "colab": {
          "base_uri": "https://localhost:8080/"
        },
        "id": "EseZx2OPkV6d",
        "outputId": "b56f62f2-982e-41d4-a805-036f28c5758b"
      },
      "execution_count": null,
      "outputs": [
        {
          "output_type": "stream",
          "name": "stdout",
          "text": [
            "1/1 [==============================] - 1s 718ms/step\n"
          ]
        },
        {
          "output_type": "execute_result",
          "data": {
            "text/plain": [
              "0"
            ]
          },
          "metadata": {},
          "execution_count": 42
        }
      ]
    },
    {
      "cell_type": "code",
      "source": [
        "new_test = list(map(predict, df['clean_text'][:100]))"
      ],
      "metadata": {
        "colab": {
          "base_uri": "https://localhost:8080/"
        },
        "id": "c7jthiuSttSs",
        "outputId": "c9803726-320d-4817-feed-f191435ae465"
      },
      "execution_count": null,
      "outputs": [
        {
          "output_type": "stream",
          "name": "stdout",
          "text": [
            "1/1 [==============================] - 0s 16ms/step\n",
            "1/1 [==============================] - 0s 17ms/step\n",
            "1/1 [==============================] - 0s 18ms/step\n",
            "1/1 [==============================] - 0s 19ms/step\n",
            "1/1 [==============================] - 0s 15ms/step\n",
            "1/1 [==============================] - 0s 16ms/step\n",
            "1/1 [==============================] - 0s 16ms/step\n",
            "1/1 [==============================] - 0s 15ms/step\n",
            "1/1 [==============================] - 0s 18ms/step\n",
            "1/1 [==============================] - 0s 16ms/step\n",
            "1/1 [==============================] - 0s 24ms/step\n",
            "1/1 [==============================] - 0s 17ms/step\n",
            "1/1 [==============================] - 0s 21ms/step\n",
            "1/1 [==============================] - 0s 17ms/step\n",
            "1/1 [==============================] - 0s 22ms/step\n",
            "1/1 [==============================] - 0s 16ms/step\n",
            "1/1 [==============================] - 0s 18ms/step\n",
            "1/1 [==============================] - 0s 20ms/step\n",
            "1/1 [==============================] - 0s 16ms/step\n",
            "1/1 [==============================] - 0s 17ms/step\n",
            "1/1 [==============================] - 0s 15ms/step\n",
            "1/1 [==============================] - 0s 16ms/step\n",
            "1/1 [==============================] - 0s 16ms/step\n",
            "1/1 [==============================] - 0s 19ms/step\n",
            "1/1 [==============================] - 0s 17ms/step\n",
            "1/1 [==============================] - 0s 15ms/step\n",
            "1/1 [==============================] - 0s 16ms/step\n",
            "1/1 [==============================] - 0s 17ms/step\n",
            "1/1 [==============================] - 0s 16ms/step\n",
            "1/1 [==============================] - 0s 18ms/step\n",
            "1/1 [==============================] - 0s 15ms/step\n",
            "1/1 [==============================] - 0s 19ms/step\n",
            "1/1 [==============================] - 0s 19ms/step\n",
            "1/1 [==============================] - 0s 17ms/step\n",
            "1/1 [==============================] - 0s 20ms/step\n",
            "1/1 [==============================] - 0s 18ms/step\n",
            "1/1 [==============================] - 0s 20ms/step\n",
            "1/1 [==============================] - 0s 16ms/step\n",
            "1/1 [==============================] - 0s 18ms/step\n",
            "1/1 [==============================] - 0s 15ms/step\n",
            "1/1 [==============================] - 0s 18ms/step\n",
            "1/1 [==============================] - 0s 18ms/step\n",
            "1/1 [==============================] - 0s 19ms/step\n",
            "1/1 [==============================] - 0s 17ms/step\n",
            "1/1 [==============================] - 0s 17ms/step\n",
            "1/1 [==============================] - 0s 18ms/step\n",
            "1/1 [==============================] - 0s 18ms/step\n",
            "1/1 [==============================] - 0s 18ms/step\n",
            "1/1 [==============================] - 0s 17ms/step\n",
            "1/1 [==============================] - 0s 18ms/step\n",
            "1/1 [==============================] - 0s 23ms/step\n",
            "1/1 [==============================] - 0s 18ms/step\n",
            "1/1 [==============================] - 0s 18ms/step\n",
            "1/1 [==============================] - 0s 18ms/step\n",
            "1/1 [==============================] - 0s 20ms/step\n",
            "1/1 [==============================] - 0s 18ms/step\n",
            "1/1 [==============================] - 0s 22ms/step\n",
            "1/1 [==============================] - 0s 24ms/step\n",
            "1/1 [==============================] - 0s 16ms/step\n",
            "1/1 [==============================] - 0s 16ms/step\n",
            "1/1 [==============================] - 0s 16ms/step\n",
            "1/1 [==============================] - 0s 18ms/step\n",
            "1/1 [==============================] - 0s 19ms/step\n",
            "1/1 [==============================] - 0s 20ms/step\n",
            "1/1 [==============================] - 0s 20ms/step\n",
            "1/1 [==============================] - 0s 18ms/step\n",
            "1/1 [==============================] - 0s 19ms/step\n",
            "1/1 [==============================] - 0s 16ms/step\n",
            "1/1 [==============================] - 0s 18ms/step\n",
            "1/1 [==============================] - 0s 16ms/step\n",
            "1/1 [==============================] - 0s 16ms/step\n",
            "1/1 [==============================] - 0s 19ms/step\n",
            "1/1 [==============================] - 0s 16ms/step\n",
            "1/1 [==============================] - 0s 16ms/step\n",
            "1/1 [==============================] - 0s 18ms/step\n",
            "1/1 [==============================] - 0s 17ms/step\n",
            "1/1 [==============================] - 0s 16ms/step\n",
            "1/1 [==============================] - 0s 16ms/step\n",
            "1/1 [==============================] - 0s 16ms/step\n",
            "1/1 [==============================] - 0s 17ms/step\n",
            "1/1 [==============================] - 0s 16ms/step\n",
            "1/1 [==============================] - 0s 16ms/step\n",
            "1/1 [==============================] - 0s 16ms/step\n",
            "1/1 [==============================] - 0s 18ms/step\n",
            "1/1 [==============================] - 0s 21ms/step\n",
            "1/1 [==============================] - 0s 18ms/step\n",
            "1/1 [==============================] - 0s 19ms/step\n",
            "1/1 [==============================] - 0s 25ms/step\n",
            "1/1 [==============================] - 0s 16ms/step\n",
            "1/1 [==============================] - 0s 16ms/step\n",
            "1/1 [==============================] - 0s 18ms/step\n",
            "1/1 [==============================] - 0s 16ms/step\n",
            "1/1 [==============================] - 0s 16ms/step\n",
            "1/1 [==============================] - 0s 16ms/step\n",
            "1/1 [==============================] - 0s 18ms/step\n",
            "1/1 [==============================] - 0s 19ms/step\n",
            "1/1 [==============================] - 0s 18ms/step\n",
            "1/1 [==============================] - 0s 16ms/step\n",
            "1/1 [==============================] - 0s 16ms/step\n",
            "1/1 [==============================] - 0s 23ms/step\n"
          ]
        }
      ]
    },
    {
      "cell_type": "code",
      "source": [
        "new_test"
      ],
      "metadata": {
        "colab": {
          "base_uri": "https://localhost:8080/"
        },
        "id": "ywk0GXTJudpm",
        "outputId": "2b3ecc6e-3d42-4903-867a-26894787163f"
      },
      "execution_count": null,
      "outputs": [
        {
          "output_type": "execute_result",
          "data": {
            "text/plain": [
              "[1,\n",
              " 0,\n",
              " 0,\n",
              " 1,\n",
              " 1,\n",
              " 0,\n",
              " 1,\n",
              " 0,\n",
              " 1,\n",
              " 0,\n",
              " 1,\n",
              " 1,\n",
              " 0,\n",
              " 0,\n",
              " 0,\n",
              " -1,\n",
              " 0,\n",
              " 0,\n",
              " 1,\n",
              " -1,\n",
              " 1,\n",
              " 0,\n",
              " 0,\n",
              " -1,\n",
              " -1,\n",
              " 1,\n",
              " 0,\n",
              " 0,\n",
              " 0,\n",
              " -1,\n",
              " 0,\n",
              " 1,\n",
              " 1,\n",
              " 1,\n",
              " -1,\n",
              " 0,\n",
              " 1,\n",
              " 1,\n",
              " -1,\n",
              " -1,\n",
              " 0,\n",
              " -1,\n",
              " 1,\n",
              " 1,\n",
              " 1,\n",
              " 1,\n",
              " 0,\n",
              " 0,\n",
              " 1,\n",
              " -1,\n",
              " 1,\n",
              " 0,\n",
              " -1,\n",
              " 1,\n",
              " 1,\n",
              " -1,\n",
              " 0,\n",
              " 0,\n",
              " 1,\n",
              " 1,\n",
              " -1,\n",
              " 0,\n",
              " 1,\n",
              " 1,\n",
              " 1,\n",
              " -1,\n",
              " 0,\n",
              " 0,\n",
              " 1,\n",
              " 1,\n",
              " 0,\n",
              " 1,\n",
              " 1,\n",
              " -1,\n",
              " 1,\n",
              " 0,\n",
              " 1,\n",
              " 0,\n",
              " 0,\n",
              " 0,\n",
              " 0,\n",
              " 1,\n",
              " 0,\n",
              " 1,\n",
              " 1,\n",
              " 1,\n",
              " 0,\n",
              " -1,\n",
              " -1,\n",
              " -1,\n",
              " 1,\n",
              " -1,\n",
              " 1,\n",
              " 1,\n",
              " 0,\n",
              " 0,\n",
              " 0,\n",
              " 0,\n",
              " 1,\n",
              " -1]"
            ]
          },
          "metadata": {},
          "execution_count": 44
        }
      ]
    },
    {
      "cell_type": "code",
      "source": [
        "real = list(df['category'][:100])\n",
        "\n",
        "for i in zip(new_test, real):\n",
        "  print(i)"
      ],
      "metadata": {
        "colab": {
          "base_uri": "https://localhost:8080/"
        },
        "id": "pUfDKdU9vIui",
        "outputId": "7c65dff9-72c4-424a-9848-850474e541b6"
      },
      "execution_count": null,
      "outputs": [
        {
          "output_type": "stream",
          "name": "stdout",
          "text": [
            "(1, 'Negative')\n",
            "(0, 'Neutral')\n",
            "(0, 'Positive')\n",
            "(1, 'Positive')\n",
            "(1, 'Positive')\n",
            "(0, 'Neutral')\n",
            "(1, 'Neutral')\n",
            "(0, 'Neutral')\n",
            "(1, 'Positive')\n",
            "(0, 'Positive')\n",
            "(1, 'Positive')\n",
            "(1, 'Positive')\n",
            "(0, 'Positive')\n",
            "(0, 'Neutral')\n",
            "(0, 'Neutral')\n",
            "(-1, 'Negative')\n",
            "(0, 'Neutral')\n",
            "(0, 'Neutral')\n",
            "(1, 'Positive')\n",
            "(-1, 'Negative')\n",
            "(1, 'Positive')\n",
            "(0, 'Negative')\n",
            "(0, 'Neutral')\n",
            "(-1, 'Negative')\n",
            "(-1, 'Negative')\n",
            "(1, 'Positive')\n",
            "(0, 'Neutral')\n",
            "(0, 'Neutral')\n",
            "(0, 'Neutral')\n",
            "(-1, 'Neutral')\n",
            "(0, 'Positive')\n",
            "(1, 'Neutral')\n",
            "(1, 'Negative')\n",
            "(1, 'Positive')\n",
            "(-1, 'Negative')\n",
            "(0, 'Neutral')\n",
            "(1, 'Positive')\n",
            "(1, 'Positive')\n",
            "(-1, 'Negative')\n",
            "(-1, 'Negative')\n",
            "(0, 'Positive')\n",
            "(-1, 'Neutral')\n",
            "(1, 'Neutral')\n",
            "(1, 'Positive')\n",
            "(1, 'Positive')\n",
            "(1, 'Positive')\n",
            "(0, 'Positive')\n",
            "(0, 'Neutral')\n",
            "(1, 'Positive')\n",
            "(-1, 'Negative')\n",
            "(1, 'Positive')\n",
            "(0, 'Neutral')\n",
            "(-1, 'Neutral')\n",
            "(1, 'Negative')\n",
            "(1, 'Positive')\n",
            "(-1, 'Negative')\n",
            "(0, 'Neutral')\n",
            "(0, 'Neutral')\n",
            "(1, 'Neutral')\n",
            "(1, 'Neutral')\n",
            "(-1, 'Negative')\n",
            "(0, 'Neutral')\n",
            "(1, 'Negative')\n",
            "(1, 'Positive')\n",
            "(1, 'Positive')\n",
            "(-1, 'Positive')\n",
            "(0, 'Positive')\n",
            "(0, 'Negative')\n",
            "(1, 'Negative')\n",
            "(1, 'Positive')\n",
            "(0, 'Neutral')\n",
            "(1, 'Neutral')\n",
            "(1, 'Positive')\n",
            "(-1, 'Negative')\n",
            "(1, 'Positive')\n",
            "(0, 'Neutral')\n",
            "(1, 'Positive')\n",
            "(0, 'Neutral')\n",
            "(0, 'Negative')\n",
            "(0, 'Positive')\n",
            "(0, 'Neutral')\n",
            "(1, 'Positive')\n",
            "(0, 'Negative')\n",
            "(1, 'Positive')\n",
            "(1, 'Neutral')\n",
            "(1, 'Negative')\n",
            "(0, 'Neutral')\n",
            "(-1, 'Negative')\n",
            "(-1, 'Neutral')\n",
            "(-1, 'Positive')\n",
            "(1, 'Positive')\n",
            "(-1, 'Negative')\n",
            "(1, 'Positive')\n",
            "(1, 'Positive')\n",
            "(0, 'Positive')\n",
            "(0, 'Neutral')\n",
            "(0, 'Neutral')\n",
            "(0, 'Neutral')\n",
            "(1, 'Negative')\n",
            "(-1, 'Positive')\n"
          ]
        }
      ]
    },
    {
      "cell_type": "code",
      "source": [],
      "metadata": {
        "id": "zkPgn_hEvQAb"
      },
      "execution_count": null,
      "outputs": []
    }
  ]
}